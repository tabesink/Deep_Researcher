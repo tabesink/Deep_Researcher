{
 "cells": [
  {
   "cell_type": "code",
   "execution_count": 20,
   "metadata": {},
   "outputs": [],
   "source": [
    "import asyncio\n",
    "import nest_asyncio\n",
    "nest_asyncio.apply()\n",
    "#from assistant.graph import graph\n",
    "\n",
    "from assistant.utils import load_pkl_files\n",
    "from assistant.vectorstore import VectorStore\n",
    "from assistant.configuration import Configuration"
   ]
  },
  {
   "cell_type": "code",
   "execution_count": 21,
   "metadata": {},
   "outputs": [
    {
     "name": "stdout",
     "output_type": "stream",
     "text": [
      "Collection 'in_memory_collection' created\n",
      " 1. A_Method_for_Comparing_the_Fatigue_Performance_of_Forged, Adding to vector store...\n",
      " 2. Characterization_of_forged_magnesium_alloys, Adding to vector store...\n",
      " 3. Fatigue_of_Forged_AZ80_Magnesium_Alloy, Adding to vector store...\n",
      " 4. Microstructure_and_texture_evolution_during_hot_deformation_of_AZ80_magnesium_alloy, Adding to vector store...\n",
      "Time taken to add documents to vector store: 10.8 seconds\n"
     ]
    }
   ],
   "source": [
    "#Load the vectorstore and add documents --> TODO: clean this up\n",
    "async def load_vectorstore():\n",
    "    # Load the parsed document pkl files\n",
    "    pkl_dict = load_pkl_files(parsed_document_dir=\"./parsed_documents\")\n",
    "    # Load the vectorstore\n",
    "    vectorstore = VectorStore()\n",
    "    vectorstore.add_pkl_dict_to_vectorstore(pkl_dict)\n",
    "    return vectorstore\n",
    "vectorstore = asyncio.run(load_vectorstore())"
   ]
  },
  {
   "cell_type": "code",
   "execution_count": 22,
   "metadata": {},
   "outputs": [],
   "source": [
    "configurable = Configuration()"
   ]
  },
  {
   "cell_type": "code",
   "execution_count": 23,
   "metadata": {},
   "outputs": [],
   "source": [
    "import json\n",
    "from typing import List\n",
    "from langchain_core.documents import Document\n",
    "from langchain_openai import ChatOpenAI\n",
    "from assistant.prompts import document_grading_instructions\n",
    "\n",
    "def document_search(search_query: str, configurable: Configuration):\n",
    "    \"\"\"\n",
    "    Parses JSON string output from LLM grading response\n",
    "    Args:\n",
    "        state (dict): The current graph state\n",
    "\n",
    "    Returns:\n",
    "        list: List of parsed JSON grades\n",
    "    \"\"\"\n",
    "    def _format_search_response(filtered_documents:List[Document]):\n",
    "        formatted_documents = []\n",
    "        for document in filtered_documents:\n",
    "            formatted_documents.append({\n",
    "                \"title\": document.metadata[\"filename\"],\n",
    "                \"url\": document.metadata[\"file_path\"],\n",
    "                \"content\": document.page_content,\n",
    "                \"context\": document.metadata[\"context\"]\n",
    "            })\n",
    "        return {\n",
    "            \"results\": formatted_documents,\n",
    "        }\n",
    "\n",
    "    def _batch_instruction_template(docs:List[Document], search_query:str):\n",
    "        return [document_grading_instructions.format(\n",
    "            search_query=search_query,\n",
    "            document=doc.page_content\n",
    "        ) for doc in docs]\n",
    "\n",
    "    llm_json_mode = ChatOpenAI(model=configurable.openai_model,\n",
    "                               base_url=configurable.openai_base_url,\n",
    "                               api_key=configurable.openai_api_key,\n",
    "                               temperature=0.0,\n",
    "                               response_format={\"type\": \"json_object\"})\n",
    "    \n",
    "\n",
    "    if not isinstance(search_query, str) or not search_query.strip():\n",
    "        raise ValueError(\"Search query must be a non-empty string\")\n",
    "\n",
    "    # retrieve documents\n",
    "    retriever = vectorstore.as_retriever(search_kwargs={\"k\": 5})\n",
    "    retrieved_documents = retriever.invoke(search_query)\n",
    "\n",
    "    # grade documents and parse JSON\n",
    "    result_json = llm_json_mode.batch(\n",
    "        _batch_instruction_template(retrieved_documents, search_query)\n",
    "    )\n",
    "    \n",
    "    filtered_documents = []\n",
    "    for i, response in enumerate(result_json):\n",
    "        result = json.loads(response.content)\n",
    "        if result['score'] == \"yes\":\n",
    "            filtered_documents.append(retrieved_documents[i])\n",
    "\n",
    "    return _format_search_response(filtered_documents)\n"
   ]
  },
  {
   "cell_type": "code",
   "execution_count": 24,
   "metadata": {},
   "outputs": [
    {
     "name": "stderr",
     "output_type": "stream",
     "text": [
      "c:\\Users\\TK\\Desktop\\Projects\\Deep_Researcher_App\\api\\.venv\\Lib\\site-packages\\IPython\\core\\interactiveshell.py:3549: UserWarning: WARNING! response_format is not default parameter.\n",
      "                response_format was transferred to model_kwargs.\n",
      "                Please confirm that response_format is what you intended.\n",
      "  exec(code_obj, self.user_global_ns, self.user_ns)\n"
     ]
    }
   ],
   "source": [
    "retrieved_documents = document_search(search_query=\"How is texture related to the mechanical properties of magnesium alloys?\", configurable=configurable)"
   ]
  },
  {
   "cell_type": "code",
   "execution_count": 25,
   "metadata": {},
   "outputs": [
    {
     "data": {
      "text/plain": [
       "{'results': [{'title': 'Application of Machine Learning Modeling in Establishing the Process, Structure, and Property Relationships of the Cast-Forged AZ80 Magnesium Alloy',\n",
       "   'url': 'data/documents/Application of Machine Learning Modeling in Establishing the Process, Structure, and Property Relationships of the Cast-Forged AZ80 Magnesium Alloy.pdf',\n",
       "   'content': \"| |3009 C|3505 C|4009 C| |\\n|---|---|---|---|---|\\n| | |100um|100um|100um|\\n| | |20um|20um|20um|\\n\\nFigure 12: Microstructures of the samples compressed to a strain 1.0, at 0.001 s-1, and different temperatures. The top row shows lower magnification micrographs, while the bottom row shows the corresponding higher magnification micrographs [36].\\n\\nThe fracture behavior during the forging process is one of the main issues of this method. The cracks firstly initiate in the Mg/Mg17Al12 interface under the hoop tensile stress on equatorial free surface during deformation, and then it propagates along the grain boundaries [38]. Fatigue behavior is also one of the biggest concerns in applications where structural magnesium alloys are being used. The forged material is found to be superior to the stock material in tensile tests and low-cycle and high-cycle fatigue tests. The development of texture due to the forging process results in tension-compression asymmetry in monotonic and cyclic responses [3]. Strain energy density is demonstrated to be a good parameter for predicting the fatigue damage for forged AZ80 alloy [39].\\n\\n# 2.3.3 The effect of initial microstructure on deformation behavior and post-forge mechanical properties\\n\\nIt is well-known that decreasing the grain size results in an increase in the yield strength of material. But it is also shown that with grain refinement, it becomes progressively easier to activate the prismatic and the second-order pyramidal slips [5]. The effect of grain refinement on enhancement of the ductility of AZ80 magnesium alloy is well-documented in the literature [9, 40, 41]. Moreover, the β- Mg17Al12 intermetallic compound exhibits a higher Young's modulus than the α-Mg and has some strengthening effect in the stock material [42]. These particles prevent the movement of dislocations on various slip/twin planes, and result in hardening of the deformation modes by the Orowan strengthening mechanism.\",\n",
       "   'context': 'This chunk is located in Chapter 2, Section 2.3.3 of the thesis, which discusses the effects of initial microstructure on the deformation behavior and post-forge mechanical properties of the AZ80 magnesium alloy. It evaluates the relationships between grain size, microstructural features, and their influence on yield strength, ductility, and overall material performance during forging processes.'},\n",
       "  {'title': 'Characterization of forged magnesium alloys',\n",
       "   'url': 'data/documents/Characterization of forged magnesium alloys.pdf',\n",
       "   'content': '# Characterization of forged magnesium alloys\\n\\nFig. 38b displays the monotonic shear stress-strain curves for AZ80, ZK60, and AZ31B intermediate-size forgings characterized in the central web location within the forging. These materials were all forged under an isothermal forging temperature of 250 °C and a rate of 20 mm/s. The shear response of AZ80 and ZK60 is very similar, with similar yield, ultimate shear strengths, and failure elongation. However, AZ31B shows a lower shear response across the entire monotonic shear curve, with a 30–40 MPa difference compared to the other materials.\\n\\nFig. 39 depicts monotonic stress-strain curves obtained from automotive front lower control arms made of AZ80 and ZK60 alloys. These samples were extracted from two different locations within a three-dimensional forging, which possesses distinct geometry and material flow characteristics compared to the previously discussed I-beam forgings. Consequently, the inherent microstructure and texture differ between these two forging types.\\n\\nFor AZ80, the selected locations within the forging exhibit higher strength in their monotonic response. Although the strength varies between the two locations, the failure elongation remains relatively consistent. On the other hand, the strength of ZK60 remains similar, while the ductility shows significant variation. Since the forging of this particular style was conducted at a temperature 50 degrees higher than the I-beam forgings (which were performed at 250 °C), it is anticipated that the spatial variation in microstructure is partially mitigated. This is because higher temperatures generally lead to improved microstructural homogeneity, as extensively documented (Gryguć et al., 2021a, 2021b, 2021c; Gryguć et al., 2019). A slight degradation in the strength of the ZK60 material relative to the I-beam forgings at the higher temperature can be observed. The forging process of an automotive suspension component with complex geometry introduces spatial variation in the microstructure, precipitate content, textures, and associated properties throughout the component. These variations primarily arise from the non-uniform local thermomechanical history during the global isothermal forging process. In summary, the monotonic stress-strain curves in Fig. 39 serve as an illustration of the spatial variation in material properties within a full-scale automotive forging.\\n\\nIn summary, forged magnesium alloys demonstrate improved mechanical properties compared to the base material before die forging, thanks to their refined microstructure and modified texture. Studies have indicated that the optimal forging temperature for closed die components is typically 250 °C, with higher forging rates showing favorable results in terms of mechanical properties. It is important to note that magnesium alloys inherently exhibit highly anisotropic mechanical behavior due to their hexagonal close-packed crystal structure, and forging does not alter this behavior. However, forging can help reduce or modify the anisotropy depending on the specific forging conditions employed.\\n\\nWhen subjected to tension, the yield strength of magnesium alloys is strongly influenced by the loading direction, with the basal slip system being the weakest. On the other hand, the strain hardening response in shear is more gradual compared to tension, primarily due to the activation of pyramidal slip systems, which have lower critical resolved shear stress values. Furthermore, the texture and microstructure of magnesium alloys play a significant role in their monotonic/quasi-static behavior. Variances in processing conditions can lead to substantial differences in mechanical properties.\\n\\nTo successfully apply forged magnesium alloys in structurally critical components, it is crucial to understand their monotonic/quasi-static behavior. This understanding necessitates a comprehensive grasp of various process-influenced parameters such as microstructure, texture, and flow behavior. These factors can have a significant impact on the material’s response when subjected to different deformation modes.\\n\\n| |Az80 Sample A|Az80 Sample B|ZK60 Sample A|ZK60 Sample B|\\n|---|---|---|---|---|\\n|Engineering Strain [%]|350|300|250|200|\\n| |150|100|50| |\\n\\nFig. 39 Tensile monotonic engineering stress-strain curves for closed die forged AZ80 and ZK60 automotive front lower control arms with responses characterized in two different locations within the forging (Gryguć et al., 2020a; Gryguć et al., 2020b). Sample A is from the outer flange region and Sample B from the center web region in the control arm.',\n",
       "   'context': 'This chunk is part of the \"Mechanical characterization of forged magnesium\" section, specifically discussing the monotonic shear stress-strain behavior and tensile properties of forged AZ80 and ZK60 magnesium alloys. It highlights the differences in mechanical responses due to variations in microstructure and forging conditions within intermediate-size forgings, as well as the implications of these properties for structural applications.'},\n",
       "  {'title': 'Microstructure and texture evolution during hot deformation of AZ80 magnesium alloy',\n",
       "   'url': 'data/documents/Microstructure and texture evolution during hot deformation of AZ80 magnesium alloy.pdf',\n",
       "   'content': '# References\\n\\n1. J. d. Valle and O. A. Ruano, \"Influence of texture on dynamic recrystallization and deformation mechanisms in rolled or ECAPed AZ31 magnesium alloy,\" Materials Science and Engineering A, vol. 487, no. 1-2, pp. 473-480, 2008.\\n2. M. R. Barnett, Z. Kehsavarz, A. G. Beer and D. Atwell, \"Influence of grain size on the compressive deformation of wrought Mg–3Al–1Zn,\" Acta Materialia, vol. 52, no. 17, pp. 5093-5103, 2004.\\n3. N. Stanford and M. R. Barnett, \"Solute strengthening of prismatic slip, basal slip and {10-12} twinning in Mg and Mg–Zn binary alloys,\" International Journal of Plasticity, vol. 47, p. 165–181, 2013.\\n4. B. Raeisinia and S. R. Agnew, \"Using polycrystal plasticity modeling to determine the effects of grain size and solid solution additions on individual deformation mechanisms in cast Mg alloys,\" Scripta Materialia, vol. 63, no. 7, p. 731–736, 2010.\\n5. B. Raeisinia, S. R. Agnew and A. Akhtar, \"Incorporation of Solid Solution Alloying Effects into Polycrystal Modeling of Mg Alloys,\" Metallurgical and Materials Transactions A, vol. 42, no. 5, p. 1418–1430, 2011.\\n6. M. R. Barnett, A. G. Beer, D. Atwell and A. Oudin, \"Influence of grain size on hot working stresses and microstructures in Mg–3Al–1Zn,\" Scripta Materialia, vol. 51, no. 1, pp. 19-24, 2004.\\n7. A. G. Beer and M. R. Barnett, \"Microstructural Development during Hot Working of Mg-3Al-1Zn,\" Metallurgical and Materials Transactions A, vol. 38, no. 8, p. 1856–1867, 2007.\\n8. C. M. Sellars, \"Recrystallization of metals,\" Metals Forum, vol. 4, pp. 75-80, 1981.\\n9. H. Watanabe, H. Tsutsui, T. Mukai, K. Ishikawa, Y. Okanda, M. Kohzu and K. Higashi, \"Grain Size Control of Commercial Wrought Mg-Al-Zn Alloys Utilizing Dynamic Recrystallization,\" Materials Transactions, vol. 42, no. 7, pp. 1200-1205, 2001.\\n10. R. Gehrmann, M. M. Frommert and G. Gottstein, \"Texture effects on plastic deformation of magnesium,\" Materials Science and Engineering A, vol. 395, no. 1-2, pp. 338-349, 2005.\\n11. M. R. Barnett, \"Influence of deformation conditions and texture on the high temperature flow stress of magnesium AZ31,\" Journal of Light Metals, vol. 1, no. 3, pp. 167-177, 2001.\\n12. B. H. Lee, S. H. Park, S.-G. Hong, K.-T. Park and C. S. Lee, \"Role of initial texture on the plastic anisotropy of Mg–3Al–1Zn alloy at various temperatures,\" Materials Science and Engineering A, vol. 528, no. 3, p. 1162–1172, 2011.',\n",
       "   'context': 'This chunk contains the references cited throughout the thesis, specifically focusing on the influence of texture, grain size, and deformation mechanisms in magnesium alloys, particularly AZ31 and AZ80 alloys. These references support the experimental findings and theoretical underpinnings discussed in detail in the thesis, particularly in relation to hot deformation behavior and dynamic recrystallization.'},\n",
       "  {'title': 'Characterization of forged magnesium alloys',\n",
       "   'url': 'data/documents/Characterization of forged magnesium alloys.pdf',\n",
       "   'content': '# Characterization of forged magnesium alloys\\n\\n# 29\\n\\n| |AZ80|ZK60|AZ31|\\n|---|---|---|---|\\n|Ultimate Tensile Strength [MPa]|400|380| |\\n| |360| | |\\n| |340| | |\\n| |320| | |\\n| |300| | |\\n| |280| | |\\n| |260| | |\\n| |240| | |\\n| |220| | |\\n| |200| | |\\n\\n100\\n150\\n200\\n250\\n300\\n350\\n\\n0%\\n5%\\n10%\\n15%\\n20%\\n25%\\n30%\\n35%\\n\\n# Fig. 37\\n\\n(a) Ultimate tensile strength and engineering yield strength, and (b) ultimate tensile strength and engineering failure elongation, relation for a variety of forged magnesium alloys such as AZ80, ZK60, and AZ31 (Papenberg et al., 2020). The forging conditions (temperature, rate, starting microstructure, texture, and geometry) vary between datapoints as well as between alloys.\\n\\nStress sy for a variety of forged magnesium alloys, predominantly AZ80, ZK60, and AZ31, as well as other alloys with the rare earth elements as described by Papenberg et al. (2020). Studies have shown that there is generally a positive correlation between yield strength and ultimate tensile strength within an alloy family, such as the forged magnesium alloys discussed in Fig. 37a. This is because the deformation mechanisms that result in yielding and ultimate response of the material are related, such that an increase in yield strength is often accompanied by an increase in ultimate strength (Papenberg et al., 2020). Furthermore, the microstructural changes induced by forging, such as the refinement of the grain size and distribution of second-phase particles, can enhance the strength of the material and result in a higher ultimate tensile strength (Papenberg et al., 2020). However, it is important to note that the relationship between yield strength and ultimate tensile strength is not necessarily linear and can be influenced by various factors such as the processing conditions and starting microstructure of the material.\\n\\nFig. 37b provides a graphical representation of the relationship between ultimate tensile strength and engineering failure elongation for the AZ80, ZK60, and AZ31B forged magnesium alloys. There is often a “trade-off” between strength and ductility. Processing conditions that result in enhanced strength typically have reduced ductility. However, it should be noted that when comparing the properties of the forged alloys to their base material (cast or extruded), there is generally an improvement in both strength and ductility due to the grain refinement and texture modification that is occurring during the forging process. In the case of the ZK family of alloys, which includes ZK60, the rare earth element addition leads to enhanced ductility due to grain refinement.',\n",
       "   'context': 'This chunk is located in Section 4.2 of the document, which focuses on the mechanical characterization of forged magnesium alloys. It specifically discusses the ultimate tensile strength and yield strength of various forged magnesium alloys such as AZ80, ZK60, and AZ31, providing insights into their mechanical properties, the correlation between yield strength and ultimate tensile strength, and the trade-off between strength and ductility.'},\n",
       "  {'title': 'Characterization of forged magnesium alloys',\n",
       "   'url': 'data/documents/Characterization of forged magnesium alloys.pdf',\n",
       "   'content': '# Characterization of forged magnesium alloys\\n\\n# 3.4 Case study\\n\\nIn industrially forged parts, control of forging parameters, such as temperature and cooling rate is often challenging compared to laboratory-scale studies involving uniaxial compression. As a result, these variations can significantly impact the microstructure and texture development. Furthermore, industrial forgings typically exhibit larger dimensions and involve more complex material flow in closed dies further influencing the microstructure and texture development during forging.\\n\\nTo exemplify these points, we refer to the work of Jahed et al. who studied the forging of an I-beam at the University of Waterloo by using a cast AZ31B alloy billet. The investigation served as a precursor study before the forging of a more geometrically complex automotive suspension component (Gryguc et al., 2021a, 2021b, 2021c; Toscano et al., 2018a, 2018b; Williams et al., 2021). The geometry was forged using a starting cylindrical billet with a diameter of 63.5 mm and length of 65 mm machined from an original cast AZ31B billet of 300 mm diameter (Toscano et al., 2018a, 2018b).\\n\\nForging was carried out using a 500-ton hydraulic press at 250 °C at a ram displacement rate of 20 mm/s, equivalent to an initial strain rate of about 0.3 s−1. The dies were pre-heated to the same forging temperature. Graphite was used as a lubricant. Forging was carried out in a single step. After forging, the forged part was allowed to cool by itself in the air. Subsequently, the part was longitudinally sectioned along mid-plane (refer to Fig. 36c) and prepared for metallographic examination using the standard practice. Microstructure and texture were observed at three different locations, as marked in Fig. 36c.\\n\\nThe texture was measured using a Brucker D8 Discover diffractometer using the process outlined in Pahlevanpour et al. (2018) and presented here based on the (0002) basal pole figures. Surface hardness measurements on the entire prepared cross-section were carried out using a United True Blue II Rockwell Hardness Tester using Rockwell 15T scale and a 1/16 ball indenter.\\n\\nThe results presented in Fig. 36 show significantly different microstructures and textures at the three locations marked in Fig. 36c. This difference is attributed to local variations in strain and strain rate gradients, which are significantly impacted by the die geometry as it constrains the material flow. Additionally, the DRX grain size from the microstructures presented here is coarser than what is expected from a specimen-size hot compression test, which can be attributed to a slow cooling rate post-forging (Beer and Barnett, 2008).\\n\\nThe differences in microstructure and texture are also reflected in the variation in the hardness map presented in Fig. 36c. Gryguc et al., have shown that such spatial variations in microstructure and texture in a forged part also result in variations in strength and ductility (Gryguc et al., 2018). Other authors have also reported similar spatial variations in microstructure, texture, and mechanical properties in industrially relevant magnesium forged parts. Specifically, such variations were reported in aircraft brackets forged using AZ31 alloy and automotive wheel hubs forged using AZ80 alloy (Dziubińska et al., 2015; Liao et al., 2023).\\n\\nDue to these variations in mechanical properties, it is crucial to assess them individually in all critical load areas when forging a new part, rather than relying on single measurements assuming it represents the overall behavior of the bulk material.',\n",
       "   'context': 'This chunk is situated in Section 3.4, which focuses on case studies related to the microstructural and mechanical property variations in forged magnesium alloys. It highlights the challenges in controlling forging parameters in industrial applications compared to laboratory settings, using the example of an I-beam forged from AZ31B alloy, and discusses the implications of these variations on material performance in practical applications.'}]}"
      ]
     },
     "execution_count": 25,
     "metadata": {},
     "output_type": "execute_result"
    }
   ],
   "source": [
    "retrieved_documents"
   ]
  },
  {
   "cell_type": "code",
   "execution_count": null,
   "metadata": {},
   "outputs": [],
   "source": []
  }
 ],
 "metadata": {
  "kernelspec": {
   "display_name": ".venv",
   "language": "python",
   "name": "python3"
  },
  "language_info": {
   "codemirror_mode": {
    "name": "ipython",
    "version": 3
   },
   "file_extension": ".py",
   "mimetype": "text/x-python",
   "name": "python",
   "nbconvert_exporter": "python",
   "pygments_lexer": "ipython3",
   "version": "3.12.4"
  }
 },
 "nbformat": 4,
 "nbformat_minor": 2
}
