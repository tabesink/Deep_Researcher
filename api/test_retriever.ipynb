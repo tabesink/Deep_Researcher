{
 "cells": [
  {
   "cell_type": "code",
   "execution_count": 3,
   "metadata": {},
   "outputs": [],
   "source": [
    "from assistant.configuration import Configuration\n",
    "config = Configuration()\n",
    "config.clear_api_key()  # This will clear the API key from both os.environ and the instance"
   ]
  },
  {
   "cell_type": "code",
   "execution_count": 1,
   "metadata": {},
   "outputs": [],
   "source": [
    "import pickle\n",
    "import os\n",
    "\n",
    "def load_pkl_files(parsed_document_dir:str=\"./parsed_documents\"):\n",
    "    \"\"\"Loads all .pkl files from directory into a dictionary with filenames as keys\"\"\"\n",
    "    pkl_dict = {}\n",
    "    for pkl_file in os.listdir(parsed_document_dir):\n",
    "        if pkl_file.endswith('.pkl'):\n",
    "            key = os.path.splitext(pkl_file)[0]\n",
    "            with open(os.path.join(parsed_document_dir, pkl_file), 'rb') as f:\n",
    "                pkl_dict[key] = pickle.load(f)\n",
    "    return pkl_dict\n",
    "\n"
   ]
  },
  {
   "cell_type": "code",
   "execution_count": 2,
   "metadata": {},
   "outputs": [
    {
     "name": "stdout",
     "output_type": "stream",
     "text": [
      "Number of files: 4\n",
      "\n",
      "Document names:\n",
      " 1. A_Method_for_Comparing_the_Fatigue_Performance_of_Forged\n",
      " 2. Characterization_of_forged_magnesium_alloys\n",
      " 3. Fatigue_of_Forged_AZ80_Magnesium_Alloy\n",
      " 4. Microstructure_and_texture_evolution_during_hot_deformation_of_AZ80_magnesium_alloy\n"
     ]
    }
   ],
   "source": [
    "pkl_dict = load_pkl_files()\n",
    "print(f\"Number of files: {len(pkl_dict)}\")\n",
    "print(\"\\nDocument names:\")\n",
    "for i, key in enumerate(pkl_dict.keys()):\n",
    "    print(f\" {i+1}. {key}\")\n"
   ]
  },
  {
   "cell_type": "code",
   "execution_count": 3,
   "metadata": {},
   "outputs": [
    {
     "name": "stderr",
     "output_type": "stream",
     "text": [
      "c:\\Users\\TK\\Desktop\\Projects\\Deep_Researcher_App\\api\\.venv\\Lib\\site-packages\\tqdm\\auto.py:21: TqdmWarning: IProgress not found. Please update jupyter and ipywidgets. See https://ipywidgets.readthedocs.io/en/stable/user_install.html\n",
      "  from .autonotebook import tqdm as notebook_tqdm\n"
     ]
    },
    {
     "name": "stdout",
     "output_type": "stream",
     "text": [
      "Collection 'in_memory_collection' created\n",
      " 1. A_Method_for_Comparing_the_Fatigue_Performance_of_Forged, Adding to vector store...\n",
      " 2. Characterization_of_forged_magnesium_alloys, Adding to vector store...\n",
      " 3. Fatigue_of_Forged_AZ80_Magnesium_Alloy, Adding to vector store...\n",
      " 4. Microstructure_and_texture_evolution_during_hot_deformation_of_AZ80_magnesium_alloy, Adding to vector store...\n",
      "Time taken to add documents to vector store: 11.695811986923218 seconds\n"
     ]
    }
   ],
   "source": [
    "from assistant.vectorstore import VectorStore\n",
    "vectorstore = VectorStore()\n",
    "vectorstore.add_pkl_dict_to_vectorstore(pkl_dict)\n"
   ]
  },
  {
   "cell_type": "code",
   "execution_count": 5,
   "metadata": {},
   "outputs": [],
   "source": [
    "retriever = vectorstore.as_retriever()"
   ]
  },
  {
   "cell_type": "code",
   "execution_count": 6,
   "metadata": {},
   "outputs": [
    {
     "name": "stderr",
     "output_type": "stream",
     "text": [
      "C:\\Users\\TK\\AppData\\Local\\Temp\\ipykernel_18496\\3049273155.py:1: LangChainDeprecationWarning: The method `BaseRetriever.get_relevant_documents` was deprecated in langchain-core 0.1.46 and will be removed in 1.0. Use :meth:`~invoke` instead.\n",
      "  retriever.get_relevant_documents(\"What is the main idea of the paper A_Method_for_Comparing_the_Fatigue_Performance_of_Forge?\")\n"
     ]
    },
    {
     "data": {
      "text/plain": [
       "[Document(metadata={'filename': 'A Method for Comparing the Fatigue Performance of Forged', 'file_path': 'data/documents/A Method for Comparing the Fatigue Performance of Forged.pdf', 'chunk_id': 1, 'context': 'This chunk serves as the introductory section of the document titled \"A Method for Comparing the Fatigue Performance of Forged AZ80 Magnesium,\" detailing the authors\\' affiliations, citation information, and a summary of the research conducted on fatigue performance in die-forged AZ80 magnesium components. It establishes the significance of the study in relation to lightweight structural applications in the automotive sector and outlines the key findings and methodologies employed in the research.', '_id': 1, '_collection_name': 'in_memory_collection'}, page_content='# A Method for Comparing the Fatigue Performance of Forged AZ80 Magnesium\\n\\nAndrew Grygu´*, Seyed Behzad Behravesh1, Hamid Jahed1, Mary Wells1, Bruce Williams2, Rudy Gruber3, Alex Duquette3, Tom Sparrow3, Jim Prsa3 and Xuming Su4\\n\\n1Fatigue and Stress Analysis Lab, Department of Mechanical & Mechatronics Engineering, University of Waterloo, Waterloo, ON N2L 3G1, Canada; sbbehravesh@uwaterloo.ca (S.B.B.); hamid.jahed@uwaterloo.ca (H.J.); mawells@uwaterloo.ca (M.W.)\\n\\n2Canmet MATERIALS, Natural Resources Canada, Hamilton, ON L8P 0A1, Canada; bruce.williams@canada.ca\\n\\n3Multimatic Technical Centre, Markham, ON L3R 5E5, Canada; rgruber@multimatic.com (R.G.); aduquett@multimatic.com (A.D.); tsparrow@multimatic.com (T.S.); jprsa@multimatic.com (J.P.)\\n\\n4Ford Research and Innovation Center, Dearborn, MI 48124, USA; xumgsu@yahoo.com\\n\\n*Correspondence: agryguc@uwaterloo.ca; Tel.: +1-647-280-9510\\n\\n# Citation\\n\\nGrygu´c, A.; Behravesh, S.B.; Jahed, H.; Wells, M.; Williams, B.; Gruber, R.; Duquette, A.; Sparrow, T.; Prsa, J.; Su, X. A Method for Comparing the Fatigue Performance of Forged AZ80 Magnesium. Metals 2021, 11, 1290. https://doi.org/10.3390/met11081290\\n\\n# Academic Editors\\n\\nAntonio Mateo and Marcello Cabibbo\\n\\n# Abstract\\n\\nA closed die forging process was developed to successfully forge an automotive suspension component from AZ80 Mg at a variety of different forging temperatures (300 ◦C, 450 ◦C). The properties of the forged component were compared and contrasted with other research works on forged AZ80 Mg at both an intermediate forging and full-scale component forging level. The monotonic response, as well as the stress and strain-controlled fatigue behaviours, were characterized for the forged materials. Stress, strain and energy-based fatigue data were used as a basis for comparison of the durability performance. The effects of the starting material, forging temperature, forging geometry/configuration were all studied and aided in developing a deeper understanding of the process-structure-properties relationship. In general, there is a larger improvement in the material properties due to forging with cast base material as the microstructural modification which enhances both the strength and ductility is more pronounced. In general, the optimum fatigue properties were achieved by using extruded base-material and forging using a closed-die process at higher strain rates and lower temperatures. The merits and drawbacks of various fatigue damage parameters (FDP’s) were investigated for predicting the fatigue behaviour of die-forged AZ80 Mg components, of those investigated, strain energy density (SED) proved to be the most robust method of comparison.\\n\\n# Keywords\\n\\nmagnesium; forging; fatigue; AZ80; LCF; HCF; texture; ε-N fatigue; S-N fatigue\\n\\n# Received\\n\\n13 June 2021\\n\\n# Accepted\\n\\n28 July 2021\\n\\n# Published\\n\\n16 August 2021\\n\\n# 1. Introduction\\n\\nThe successful utilization of lightweight materials in structural applications is an engineering problem that requires a thorough understanding of the service environment of the component to fully achieve an optimal solution. Typically, Mg components manufactured using traditional casting methods were utilized in applications where they were not significantly load-bearing and could offer significant reduction in mass compared to other structural metals (due to Mg’s low density). However, this was done without specific effort put into designing the manufacturing process, controlling the resulting material microstructure, or optimizing the component geometry specifically for the application-specific service loads. However, more recently, magnesium alloys have been explored for usage in structural applications in the aerospace and automotive industries, as their low density and high specific strength make them ideal for components where lightweight is a priority. Generally, wrought forms of magnesium have been renowned for offering improved strength and ductility as they do not suffer from the manufacturing defects and coarse microstructure typical of cast manufacturing methods. Forging Mg to produce near-net shape components can offer substantial benefit and facilitate the reliable usage of Mg.\\n\\nCopyright: © 2021 by the authors. Licensee MDPI, Basel, Switzerland. This article is an open access article distributed under the terms and conditions of the Creative Commons Attribution (CC BY) license (https://creativecommons.org/licenses/by/4.0/).'),\n",
       " Document(metadata={'filename': 'Application of Machine Learning Modeling in Establishing the Process, Structure, and Property Relationships of the Cast-Forged AZ80 Magnesium Alloy', 'file_path': 'data/documents/Application of Machine Learning Modeling in Establishing the Process, Structure, and Property Relationships of the Cast-Forged AZ80 Magnesium Alloy.pdf', 'chunk_id': 45, 'context': 'This chunk is situated within the \"Literature Review\" section of the thesis, specifically in the context of discussing the advantages and applications of data-driven methods, such as machine learning, in materials science. It follows an introduction to the benefits of the cast-forging process for producing lightweight components, emphasizing the current study\\'s contribution to the understanding of process/microstructure/properties relationships in magnesium alloys.', '_id': 108, '_collection_name': 'in_memory_collection'}, page_content='Previous studies show that the cast-forging process has the potential of producing near net shape lightweight components with properties comparable with other processing routes. Since forging directly from a cast stock material reduces cost and production time, a cast-forge process can be a cost-effective paradigm in production of automotive parts. Regarding the sparseness in research on this hybrid manufacturing process, the current study might provide beneficial information on production of structural magnesium components in addition to its main goal of establishing a process/microstructure/properties relationship.\\n\\n# 2.5 Data-driven Methods and Their Applications in Materials Science\\n\\nMachine learning has been broadly defined as computational methods using experience to improve performance or to make accurate predictions [53]. Here, experience refers to the past information available to the learner, which typically takes the form of data collected and made available for analysis. Since the success of a learning algorithm depends on the data used, machine learning is inherently related to data analysis and statistics. More generally, learning techniques are data-driven methods combining fundamental concepts in computer science with ideas from statistics, probability, and optimization [54]. The machine learning techniques can be employed for performing tasks such as classification, regression, clustering, and dimensionality reduction. In data mining, machine learning techniques have been used to investigate and understand complex nonlinear relationships [55]. Traditionally, in materials science the introduction of new materials and manufacturing processes is conducted through experiments, which imposes high requirements in terms of resources and equipment [56]. In this regard, the computational methods provide an opportunity to accelerate innovations in materials science. In recent years, the improvement in algorithms and the exponential growth in computing powers have proposed data-driven methods as powerful tools in materials science.\\n\\n# 2.5.1 Application of machine learning methods in materials science\\n\\nBy having a broad set of practical applications ranging from data classification to computer vision, machine learning techniques have been used for many different objectives in the realm of materials science and engineering. So, in this section we only focus on applications that are relevant to the objectives of the current study.\\n\\nDespite the recent boost in utilization of data-driven methods, the practicable advantages of these methods have been known and followed in the materials science community for a long time. Bhadeshia [57] discussed some specific applications of neural networks in the context of materials in 1999. This review paper introduces weld materials, superalloys, fatigue properties, transformations, high-'),\n",
       " Document(metadata={'filename': 'A Method for Comparing the Fatigue Performance of Forged', 'file_path': 'data/documents/A Method for Comparing the Fatigue Performance of Forged.pdf', 'chunk_id': 11, 'context': 'This chunk is situated in Section 3.3 of the document, titled \"Property-Performance Relationship (Optimizing the Forging Process),\" where the authors discuss the impact of forging process parameters on the mechanical properties and performance of AZ80 magnesium alloys. It emphasizes the importance of optimizing these parameters to enhance the fatigue performance of forged components, particularly in the context of an automotive suspension component, and addresses the interplay between material structure, properties, and the forging process itself.', '_id': 11, '_collection_name': 'in_memory_collection'}, page_content='Metals 2021, 11, 1290\\n\\nnantly due to the increase in strength from a modified texture, refined grain structure and evolved precipitate size/distribution/morphology. However, if the processing conditions during forging are not optimally selected, a dramatic impact can result in the strengthening mechanisms of each of these aforementioned contributing effects. More specifically, if the forging temperature is too high, then grain growth can occur which can result in lower strengths. If the temperature is too low, the pragmatic constraint of poor workability and inadequate die-fill will dominate. The processing window of the current work and the studies presented here is quite narrow and optimizing the forging parameters specifically to achieve the properties which are desirable for the service application is of utmost importance to achieve a holistic improvement in forging process design. Each of these effects and their impact on the property-performance relationship are highly coupled in nature; that is to say, they are commonly inter-related with one another and are frequently not mutually exclusive. Exploration of optimizing this property-performance relationship with a summary of the fatigue characterizations and modelling that was done in the current study will subsequently be discussed in more detail in Section 3.3.\\n\\nFigure 9. Relationship between primary mechanical process parameter (equivalent local strain due to forging) and resulting yield strength of AZ80 Mg after forging (subdivided into various starting material conditions). The current study denotes properties extracted from various locations of the extruded then die-forged automotive suspension control arm forged at various temperatures (300 °C and 450 °C). For reference, extruded-forged data can be found in the following studies [5–13,16], and cast-forged from [3,16].\\n\\n# 3.3. Property-Performance Relationship (Optimizing the Forging Process)\\n\\nThe influence of the properties on the performance of the material is an emerging topic in the field of forged Mg alloys as characterizing the mechanical properties of forged Mg is now somewhat well understood [1]. Furthermore, optimization of the forging process parameters with an aim to improve the in-service performance of forged Mg components is an area that shows promise for future work. The influence of the materials structure and the forging process on the structural properties (both monotonic and fatigue) that was previously discussed highlights the impact of the highly complex thermomechanical nature of closed die forging AZ80 Mg to produce intricate 3-dimensional components such as the automotive suspension component presented here in this current study. Since the in-service requirements of the automotive suspension component are highly reliant on its fatigue performance, optimizing the forging process parameters for fatigue critical components is an important contribution of this work.\\n\\nFigure 10. Typical strain-life (ε-N) curve for the optimum condition (of those which were investigated), which is 300 °C for an extruded then closed die forging of an AZ80 Mg automotive suspension component. The Coffin–Manson parameters associated with the response of the forged material highlight the representative (or average property) across the entire component. The spatial variation in properties that was previously discussed linked with the variations in thermomechanical history throughout the component are the main contributors towards the data’s deviation from the modelled Coffin–Manson type behaviour.'),\n",
       " Document(metadata={'filename': 'Application of Machine Learning Modeling in Establishing the Process, Structure, and Property Relationships of the Cast-Forged AZ80 Magnesium Alloy', 'file_path': 'data/documents/Application of Machine Learning Modeling in Establishing the Process, Structure, and Property Relationships of the Cast-Forged AZ80 Magnesium Alloy.pdf', 'chunk_id': 162, 'context': 'This chunk is from the concluding chapter of a doctoral thesis examining the application of machine learning in understanding the relationships between processing parameters, microstructure, and mechanical properties of the cast-forged AZ80 magnesium alloy. It summarizes key findings, presents conclusions related to the research objectives, and outlines future research directions and limitations, emphasizing the novel contributions of the study to the field of materials science and engineering.', '_id': 225, '_collection_name': 'in_memory_collection'}, page_content='# 10. Summary, Conclusions, limitations, and Future Work\\n\\n# 10.1. Summary\\n\\nThe current thesis establishes a complete map of all possible microstructure and mechanical properties achievable by the ranges of the investigated process parameters in cast-forging of AZ80 magnesium alloy. This process, microstructure, property linkage can be used in selection of the proper material based on specific applications. Additionally, this work provides a data-driven approach for efficient material and manufacturing design, allowing the future researchers to accelerate advanced material discovery by using machine learning-based models that predict the microstructure and mechanical properties which remarkably reduces the design matrix and need for comprehensive experimental studies. In addition to general investigation into the application of machine learning methods in materials science, Chapter 7 contains one of the pioneering works in introduction of DDPM approach in microstructure image generation. To the best of our knowledge, this is the first time a denoising diffusion probabilistic model has been used to predict the unseen microstructure of a real-world complex manufacturing process. This paper also includes a comprehensive model performance assessment via the IQM and morphological feature analysis for the highest-resolution SEM image generator to date.\\n\\nOver the course of this work, several journal articles have been published, 3 of which has been presented in this thesis. Publication plans are also in progress for Chapters 5, 8, and 9. Furthermore, this study yielded several materials characterization, modeling implementation, and performance analysis contributions that have not been included in this thesis due to the length limitations. Nonetheless, these contributions have been disseminated through various reports, update meetings, and presentations to the academic and industry partners.\\n\\n# 10.2. Conclusions\\n\\nThe conclusions of the current thesis are best presented in connection with the main objectives of this research. In this regard, the main three objectives are repeated here:\\n\\n1. Characterization of the AZ80 magnesium alloy casting process\\n2. Detailed study of forging and thermo-mechanical processes in production of the AZ80 complex die-forged components\\n3. Application of machine learning models in establishment of process, microstructure, and property relationship in the AZ80 cast-forging\\n\\nInitially the wedge, cylinder, and preform casting processes are designed to address the existing gaps in the domain knowledge on mutual effect of casting cooling rate and degassing in evolution of microstructure and further deformation behavior. The results of these studies along with the detailed literature review fulfil research objectives (1) and enhance understanding on ways that the initial casting'),\n",
       " Document(metadata={'filename': 'Application of Machine Learning Modeling in Establishing the Process, Structure, and Property Relationships of the Cast-Forged AZ80 Magnesium Alloy', 'file_path': 'data/documents/Application of Machine Learning Modeling in Establishing the Process, Structure, and Property Relationships of the Cast-Forged AZ80 Magnesium Alloy.pdf', 'chunk_id': 145, 'context': 'This chunk is part of Chapter 8, which focuses on comparing the microstructure and mechanical properties of cylinder and optimized preform cast-forged I-beam components made from AZ80 magnesium alloy. Specifically, it discusses the results of stress-controlled fatigue tests, highlighting the improved fatigue resistance of the optimized preform samples due to a more uniform local effective strain distribution and its implications for material performance.', '_id': 208, '_collection_name': 'in_memory_collection'}, page_content='# 8.3.3. Stress-controlled Fatigue Test\\n\\nFigure 75 compares the S-N curves between the cylinder and preform cast-forged samples extracted from all three investigated locations and forged at all three investigated forging temperatures. The optimized preform cast-forged samples show significantly higher cyclic lives compared to their conventional cylinder cast-forged counterparts. This improvement in the fatigue resistance comes from a more uniform distribution of the local effective strain across the optimized preform forged components and ensuring the application of the minimum required strain to trigger dynamic recrystallization. The material’s strength, especially the YS, has an important role in increasing its cyclic life. At the same time, a more uniform microstructure of the optimized preform cast-forged I-beams deters the crack initiation compared to the cylinder cast-forging process. These factors contribute to the material’s fatigue behavior and cause small improvements in the strength and ductility of the optimized preform cast-forging resulting in a definite improvement in the material’s fatigue resistance.\\n\\n|Cyclic Life|Preform Cast-Forged|Cylinder Cast-Forged| | |\\n|---|---|---|---|---|\\n|170|Preforn Cast-Forged|8|160| |\\n| |500|5000|50000|500000|\\n\\nFigure 75: S-N curves for the cylinder and optimized preform forging samples extracted from various locations tested at 140 and 160 MPa stress amplitudes.')]"
      ]
     },
     "execution_count": 6,
     "metadata": {},
     "output_type": "execute_result"
    }
   ],
   "source": [
    "retriever.get_relevant_documents(\"What is the main idea of the paper A_Method_for_Comparing_the_Fatigue_Performance_of_Forge?\")"
   ]
  }
 ],
 "metadata": {
  "kernelspec": {
   "display_name": ".venv",
   "language": "python",
   "name": "python3"
  },
  "language_info": {
   "codemirror_mode": {
    "name": "ipython",
    "version": 3
   },
   "file_extension": ".py",
   "mimetype": "text/x-python",
   "name": "python",
   "nbconvert_exporter": "python",
   "pygments_lexer": "ipython3",
   "version": "3.12.4"
  }
 },
 "nbformat": 4,
 "nbformat_minor": 2
}
