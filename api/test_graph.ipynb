{
 "cells": [
  {
   "cell_type": "code",
   "execution_count": 1,
   "metadata": {},
   "outputs": [
    {
     "name": "stderr",
     "output_type": "stream",
     "text": [
      "c:\\Users\\TK\\Desktop\\Projects\\Deep_Researcher_App\\api\\.venv\\Lib\\site-packages\\tqdm\\auto.py:21: TqdmWarning: IProgress not found. Please update jupyter and ipywidgets. See https://ipywidgets.readthedocs.io/en/stable/user_install.html\n",
      "  from .autonotebook import tqdm as notebook_tqdm\n"
     ]
    },
    {
     "name": "stdout",
     "output_type": "stream",
     "text": [
      "Collection 'in_memory_collection' created\n",
      " 1. Characterization_of_forged_magnesium_alloys, Adding to vector store...\n",
      "Time taken to add documents to vector store: 1.1 seconds\n"
     ]
    }
   ],
   "source": [
    "import asyncio\n",
    "import nest_asyncio\n",
    "nest_asyncio.apply()\n",
    "from assistant.graph import graph"
   ]
  },
  {
   "cell_type": "code",
   "execution_count": 2,
   "metadata": {},
   "outputs": [],
   "source": [
    "import uuid\n",
    "thread_id = str(uuid.uuid4())"
   ]
  },
  {
   "cell_type": "code",
   "execution_count": 3,
   "metadata": {},
   "outputs": [],
   "source": [
    "messages=\"How does texture affect the mechanical properties of magnesium alloys?\""
   ]
  },
  {
   "cell_type": "code",
   "execution_count": 5,
   "metadata": {},
   "outputs": [
    {
     "name": "stdout",
     "output_type": "stream",
     "text": [
      "{'generate_query': {'search_query': 'effect of texture on mechanical properties of magnesium alloys'}}\n",
      "{'document_search': {'sources_gathered': ['* Characterization of forged magnesium alloys : n/a\\n* Characterization of forged magnesium alloys : n/a\\n* Characterization of forged magnesium alloys : n/a'], 'research_loop_count': 1, 'document_search_results': ['Sources:\\n\\nSource Characterization of forged magnesium alloys:\\n===\\nURL: n/a\\n===\\nMost relevant content from source: # Characterization of forged magnesium alloys\\n\\n# 19\\n\\n|300 °C|20 μm|200 μm|\\n|---|---|---|\\n|350 °C|20 μm|200 μm|\\n|400 °C|20 μm|200 μm|\\n\\nFig. 21 Micrographs of cast AZ80 alloy deformed at 300–400 °C at 0.001 s−1 to a strain of 1.0. Adapted from Prakash P, Toscano D, Shaha SK, Wells MA, Jahed H, Williams BW (2020) Effect of temperature on the hot deformation behavior of AZ80 magnesium alloy. Materials Science and Engineering A 794: 139923.\\n\\nThe axis represents a basal texture, while a more uniform distribution from 0 to 90 indicates a random texture. The data reveals that for the AZ31 alloy, although deformation to higher strains strengthens the texture, the DRXed grains exhibit significantly lower texture intensity compared to the un-recrystallized grains. Conversely, in the AZ80 alloy, the DRXed grain closely follows the texture of the deforming grains. Furthermore, increasing the strain rate intensifies the texture intensity, particularly in the AZ80 alloy. Since the primary difference between AZ31 and AZ80 alloys lies in their aluminum content, these results clearly show the substantial impact that aluminum can have on texture development during deformation. Notably, Guo et al. have reported a more pronounced basal texture in un-recrystallized regions of AZ91 alloy compared to that in AZ31 alloy during hot rolling (Guo et al., 2017). Additionally, Backx et al. showed texture randomization in extruded AZ31 alloy compressed parallel to the prior extrusion axis, where the texture.\\n===\\nFull source content limited to 1000 tokens:']}}\n",
      "{'summarize_sources': {'running_summary': 'Texture significantly influences the mechanical properties of magnesium alloys, particularly in terms of strength and ductility. Research indicates that the deformation process affects the texture of alloys like AZ31 and AZ80, with higher strains leading to a stronger texture in AZ31, while the dynamically recrystallized (DRXed) grains in AZ80 maintain a texture closely aligned with the deforming grains. The intensity of the texture is also affected by the strain rate, with increased rates resulting in a more pronounced texture, especially in AZ80.\\n\\nThe aluminum content in these alloys plays a crucial role in texture development during deformation. For instance, AZ91 alloy exhibits a more defined basal texture in un-recrystallized regions compared to AZ31 during hot rolling. Additionally, texture randomization has been observed in extruded AZ31 when compressed parallel to the extrusion axis, indicating that the processing conditions and alloy composition are vital in determining the mechanical behavior of magnesium alloys. Overall, the relationship between texture and mechanical properties underscores the importance of controlling processing parameters to optimize the performance of magnesium alloys in various applications.'}}\n",
      "1\n",
      "{'reflect_on_summary': {'search_query': 'What are the specific mechanisms through which texture influences the mechanical properties of magnesium alloys, and how do different processing techniques like hot rolling and extrusion affect texture evolution in these alloys?'}}\n",
      "{'document_search': {'sources_gathered': ['* Characterization of forged magnesium alloys : n/a'], 'research_loop_count': 2, 'document_search_results': ['Sources:\\n\\nSource Characterization of forged magnesium alloys:\\n===\\nURL: n/a\\n===\\nMost relevant content from source: # Characterization of forged magnesium alloys\\n\\n# 19\\n\\n|300 °C|20 μm|200 μm|\\n|---|---|---|\\n|350 °C|20 μm|200 μm|\\n|400 °C|20 μm|200 μm|\\n\\nFig. 21 Micrographs of cast AZ80 alloy deformed at 300–400 °C at 0.001 s−1 to a strain of 1.0. Adapted from Prakash P, Toscano D, Shaha SK, Wells MA, Jahed H, Williams BW (2020) Effect of temperature on the hot deformation behavior of AZ80 magnesium alloy. Materials Science and Engineering A 794: 139923.\\n\\nThe axis represents a basal texture, while a more uniform distribution from 0 to 90 indicates a random texture. The data reveals that for the AZ31 alloy, although deformation to higher strains strengthens the texture, the DRXed grains exhibit significantly lower texture intensity compared to the un-recrystallized grains. Conversely, in the AZ80 alloy, the DRXed grain closely follows the texture of the deforming grains. Furthermore, increasing the strain rate intensifies the texture intensity, particularly in the AZ80 alloy. Since the primary difference between AZ31 and AZ80 alloys lies in their aluminum content, these results clearly show the substantial impact that aluminum can have on texture development during deformation. Notably, Guo et al. have reported a more pronounced basal texture in un-recrystallized regions of AZ91 alloy compared to that in AZ31 alloy during hot rolling (Guo et al., 2017). Additionally, Backx et al. showed texture randomization in extruded AZ31 alloy compressed parallel to the prior extrusion axis, where the texture.\\n===\\nFull source content limited to 1000 tokens:']}}\n",
      "{'summarize_sources': {'running_summary': 'Texture significantly influences the mechanical properties of magnesium alloys, particularly in terms of strength and ductility. Research indicates that the deformation process affects the texture of alloys like AZ31 and AZ80, with higher strains leading to a stronger texture in AZ31, while the dynamically recrystallized (DRXed) grains in AZ80 maintain a texture closely aligned with the deforming grains. The intensity of the texture is also affected by the strain rate, with increased rates resulting in a more pronounced texture, especially in AZ80.\\n\\nThe aluminum content in these alloys plays a crucial role in texture development during deformation. For instance, AZ91 alloy exhibits a more defined basal texture in un-recrystallized regions compared to AZ31 during hot rolling. Notably, the DRXed grains in AZ31 show significantly lower texture intensity than the un-recrystallized grains, highlighting the differences in texture behavior between these alloys. Additionally, texture randomization has been observed in extruded AZ31 when compressed parallel to the extrusion axis, indicating that processing conditions and alloy composition are vital in determining the mechanical behavior of magnesium alloys.\\n\\nOverall, the relationship between texture and mechanical properties underscores the importance of controlling processing parameters to optimize the performance of magnesium alloys in various applications. The substantial impact of aluminum content on texture development further emphasizes the need for careful consideration of alloy composition in enhancing mechanical properties.'}}\n",
      "2\n",
      "{'reflect_on_summary': {'search_query': 'What are the specific mechanisms through which texture influences the mechanical properties of magnesium alloys, and how does varying aluminum content affect these mechanisms in alloys like AZ31 and AZ80?'}}\n",
      "{'finalize_summary': {'running_summary': '## Summary\\n\\nTexture significantly influences the mechanical properties of magnesium alloys, particularly in terms of strength and ductility. Research indicates that the deformation process affects the texture of alloys like AZ31 and AZ80, with higher strains leading to a stronger texture in AZ31, while the dynamically recrystallized (DRXed) grains in AZ80 maintain a texture closely aligned with the deforming grains. The intensity of the texture is also affected by the strain rate, with increased rates resulting in a more pronounced texture, especially in AZ80.\\n\\nThe aluminum content in these alloys plays a crucial role in texture development during deformation. For instance, AZ91 alloy exhibits a more defined basal texture in un-recrystallized regions compared to AZ31 during hot rolling. Notably, the DRXed grains in AZ31 show significantly lower texture intensity than the un-recrystallized grains, highlighting the differences in texture behavior between these alloys. Additionally, texture randomization has been observed in extruded AZ31 when compressed parallel to the extrusion axis, indicating that processing conditions and alloy composition are vital in determining the mechanical behavior of magnesium alloys.\\n\\nOverall, the relationship between texture and mechanical properties underscores the importance of controlling processing parameters to optimize the performance of magnesium alloys in various applications. The substantial impact of aluminum content on texture development further emphasizes the need for careful consideration of alloy composition in enhancing mechanical properties.\\n\\n ### Sources:\\n* Characterization of forged magnesium alloys : n/a\\n* Characterization of forged magnesium alloys : n/a\\n* Characterization of forged magnesium alloys : n/a\\n* Characterization of forged magnesium alloys : n/a'}}\n"
     ]
    }
   ],
   "source": [
    "import asyncio\n",
    "import warnings\n",
    "warnings.filterwarnings('ignore', category=UserWarning)\n",
    "\n",
    "asyncio.run(\n",
    "    generate_stream()\n",
    "    )"
   ]
  },
  {
   "cell_type": "markdown",
   "metadata": {},
   "source": [
    "# streaming"
   ]
  },
  {
   "cell_type": "markdown",
   "metadata": {},
   "source": [
    "Streaming \"updates\""
   ]
  },
  {
   "cell_type": "code",
   "execution_count": 6,
   "metadata": {},
   "outputs": [],
   "source": [
    "from langchain_core.messages import AIMessageChunk\n",
    "\n",
    "\n",
    "async def generate_stream_updates():\n",
    "    async for token in graph.astream(\n",
    "        {\"research_topic\": messages},  # Use the last message content as research topic\n",
    "        {\"configurable\": {\"thread_id\": thread_id}},\n",
    "        stream_mode=\"updates\" \n",
    "    ): \n",
    "        \n",
    "        if 'finalize_summary' in token.keys():\n",
    "            running_summary = token[\"finalize_summary\"][\"running_summary\"]        \n",
    "            if 'generate_query' in token:\n",
    "                yield f\"data: {json.dumps({\n",
    "                    'id': f'chat-{str(uuid.uuid4())}',\n",
    "                    'object': 'chat.completion.chunk',\n",
    "                    'created': int(time.time()),\n",
    "                    'model': request.model,\n",
    "                    'choices': [{\n",
    "                        'index': 0,\n",
    "                        'delta': {\n",
    "                            'role': 'assistant',\n",
    "                            'content': f\"Question: {messages}\\n\\nAnswer: {running_summary}\"\n",
    "                        },\n",
    "                        'finish_reason': None\n",
    "                    }]\n",
    "                })}\\n\\n\" \"\"\"\n",
    "        "
   ]
  },
  {
   "cell_type": "code",
   "execution_count": 7,
   "metadata": {},
   "outputs": [
    {
     "name": "stdout",
     "output_type": "stream",
     "text": [
      "1\n",
      "2\n",
      "## Summary\n",
      "\n",
      "Texture significantly influences the mechanical properties of magnesium alloys, particularly in their deformation behavior and strength. Research indicates that the texture of magnesium alloys, such as AZ31 and AZ80, evolves during processing, affecting their performance. In the AZ31 alloy, higher strains lead to a stronger texture; however, dynamically recrystallized (DRXed) grains exhibit lower texture intensity compared to un-recrystallized grains. Conversely, the AZ80 alloy shows that DRXed grains closely follow the texture of the deforming grains, indicating a more uniform texture development.\n",
      "\n",
      "The strain rate also plays a crucial role, as increasing the strain rate enhances texture intensity, especially in the AZ80 alloy. The differences in aluminum content between alloys like AZ31 and AZ80 contribute to variations in texture development during deformation. Notably, studies have shown that un-recrystallized regions of the AZ91 alloy display a more pronounced basal texture than AZ31 during hot rolling, further emphasizing the impact of alloy composition on texture and, consequently, mechanical properties. Additionally, texture randomization has been observed in extruded AZ31 alloy when compressed parallel to the prior extrusion axis, highlighting the complexity of texture evolution in response to processing conditions. Overall, the relationship between texture and mechanical properties in magnesium alloys is intricate and influenced by factors such as strain, strain rate, and alloy composition.\n",
      "\n",
      " ### Sources:\n",
      "* Characterization of forged magnesium alloys : n/a\n",
      "* Characterization of forged magnesium alloys : n/a\n",
      "* Characterization of forged magnesium alloys : n/a\n",
      "* Characterization of forged magnesium alloys : n/a\n",
      "* Characterization of forged magnesium alloys : n/a\n",
      "* Characterization of forged magnesium alloys : n/a\n",
      "* Characterization of forged magnesium alloys : n/a\n",
      "* Characterization of forged magnesium alloys : n/a\n"
     ]
    }
   ],
   "source": [
    "import asyncio\n",
    "import warnings\n",
    "warnings.filterwarnings('ignore', category=UserWarning)\n",
    "\n",
    "asyncio.run(\n",
    "    generate_stream_updates()\n",
    "    )"
   ]
  },
  {
   "cell_type": "markdown",
   "metadata": {},
   "source": [
    "Streaming \"messages"
   ]
  },
  {
   "cell_type": "code",
   "execution_count": 92,
   "metadata": {},
   "outputs": [],
   "source": [
    "from langchain_core.messages import AIMessageChunk\n",
    "\n",
    "\n",
    "async def generate_stream(iter=0, out_str=\"\"):\n",
    "    async for token in graph.astream(\n",
    "        {\"research_topic\": messages},  # Use the last message content as research topic\n",
    "        {\"configurable\": {\"thread_id\": thread_id}},\n",
    "        stream_mode=\"messages\" \n",
    "    ): \n",
    "        #print(type(token)) # <class 'tuple'>  stream_mode=\"messages\" --> does acutal streaming \n",
    "        \n",
    "        # print(token[0]) #content='' additional_kwargs={} response_metadata={} id='run-d875712c-f6a8-4cb0-9ace-4b04c0a8eb06'\n",
    "        \n",
    "        #print(token[1]) # {'thread_id': 'bd94e363-2788-44cd-8ef2-74a54871c773', 'langgraph_step': 1, 'langgraph_node': 'generate_query', \n",
    "            # 'langgraph_triggers': ['start:generate_query'], 'langgraph_path': ('__pregel_pull', 'generate_query'), 'langgraph_checkpoint_ns': 'generate_query:9caf1c19-ca93-b9c7-bf32-be7006d013e5', \n",
    "            # 'checkpoint_ns': 'generate_query:9caf1c19-ca93-b9c7-bf32-be7006d013e5', 'ls_provider': 'openai', 'ls_model_name': 'gpt-4o-mini', 'ls_model_type': 'chat', 'ls_temperature': 0.0}\n",
    "        \n",
    "        # returns the thread_id --> token[1][\"thread_id\"])\n",
    "        \n",
    "        #print(f\"iter:{iter} \\n {token[0].content}, token length: {len(token[0].content)}\\n\")\n",
    "        \n",
    "        message_chunk = token[0].content\n",
    "        message_metadata = token[1]        \n",
    "        \n",
    "        \"\"\" if '\"query\"' in message_chunk:\n",
    "            print(message_chunk.replace('\\n', ''), end='')\n",
    "        elif '\"aspect\"' in message_chunk:\n",
    "            print('\\n' + message_chunk.replace('\\n', ''), end='')\n",
    "        else:\n",
    "            print(message_chunk.replace('\\n', ''), end='') \"\"\"\n",
    "        \n",
    "        \n",
    "        \n",
    "        if isinstance(message_chunk, AIMessageChunk):\n",
    "            if 'generate_query' == message_metadata['langgraph_node']:\n",
    "                print(f\"iter:{iter} \\n {message_chunk}, token length: {len(message_chunk)}\\n\")\n",
    "\n",
    "\n",
    "        \n",
    "        \"\"\" # Stream intermediate research updates\n",
    "        if isinstance(token, dict):\n",
    "            # Stream each type of update with appropriate content\n",
    "            if 'generate_query' in token:\n",
    "                yield f\"data: {json.dumps({\n",
    "                    'id': f'chat-{str(uuid.uuid4())}',\n",
    "                    'object': 'chat.completion.chunk',\n",
    "                    'created': int(time.time()),\n",
    "                    'model': request.model,\n",
    "                    'choices': [{\n",
    "                        'index': 0,\n",
    "                        'delta': {\n",
    "                            'role': 'assistant',\n",
    "                            'content': f\"Searching for: {token['generate_query']['search_query']}\\n\"\n",
    "                        },\n",
    "                        'finish_reason': None\n",
    "                    }]\n",
    "                })}\\n\\n\" \"\"\"\n",
    "        "
   ]
  },
  {
   "cell_type": "code",
   "execution_count": null,
   "metadata": {},
   "outputs": [],
   "source": [
    "import asyncio\n",
    "import warnings\n",
    "warnings.filterwarnings('ignore', category=UserWarning)\n",
    "\n",
    "\n",
    "asyncio.run(\n",
    "    generate_stream()\n",
    "    )"
   ]
  },
  {
   "cell_type": "code",
   "execution_count": null,
   "metadata": {},
   "outputs": [],
   "source": []
  },
  {
   "cell_type": "code",
   "execution_count": null,
   "metadata": {},
   "outputs": [],
   "source": []
  }
 ],
 "metadata": {
  "kernelspec": {
   "display_name": ".venv",
   "language": "python",
   "name": "python3"
  },
  "language_info": {
   "codemirror_mode": {
    "name": "ipython",
    "version": 3
   },
   "file_extension": ".py",
   "mimetype": "text/x-python",
   "name": "python",
   "nbconvert_exporter": "python",
   "pygments_lexer": "ipython3",
   "version": "3.12.4"
  }
 },
 "nbformat": 4,
 "nbformat_minor": 2
}
